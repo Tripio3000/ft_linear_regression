{
 "cells": [
  {
   "cell_type": "code",
   "execution_count": 12,
   "id": "d6a119f4-99c5-486a-89dd-b293e3afa28a",
   "metadata": {},
   "outputs": [
    {
     "name": "stdout",
     "output_type": "stream",
     "text": [
      "<generator object <genexpr> at 0x108ed0050>\n"
     ]
    }
   ],
   "source": [
    "file = open('data.csv','r')\n",
    "data = [[]]\n",
    "for rows in file:\n",
    "     cols = rows.split()\n",
    "     data.append(cols[i] for i in cols)\n",
    "\n",
    "print(data[:][1])"
   ]
  },
  {
   "cell_type": "code",
   "execution_count": null,
   "id": "bd7cad20-36cf-4a8f-8cb8-1391efe16fc8",
   "metadata": {},
   "outputs": [],
   "source": [
    "from numpy import genfromtxt\n",
    "my_data = genfromtxt('my_file.csv', delimiter=',')\n",
    "\n"
   ]
  }
 ],
 "metadata": {
  "kernelspec": {
   "display_name": "Python 3",
   "language": "python",
   "name": "python3"
  },
  "language_info": {
   "codemirror_mode": {
    "name": "ipython",
    "version": 3
   },
   "file_extension": ".py",
   "mimetype": "text/x-python",
   "name": "python",
   "nbconvert_exporter": "python",
   "pygments_lexer": "ipython3",
   "version": "3.7.8"
  }
 },
 "nbformat": 4,
 "nbformat_minor": 5
}
