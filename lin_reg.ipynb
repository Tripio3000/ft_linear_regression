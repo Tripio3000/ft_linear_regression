{
 "cells": [
  {
   "cell_type": "markdown",
   "id": "95d85468-9362-4e76-b1fc-52c85b65e484",
   "metadata": {},
   "source": [
    "import numpy as np\n",
    "\n",
    "data = np.genfromtxt('data.csv', delimiter=',')\n",
    "\n",
    "data"
   ]
  },
  {
   "cell_type": "code",
   "execution_count": 9,
   "id": "cc6a1a2c-9df3-4732-bcbb-d6142b6b02c7",
   "metadata": {},
   "outputs": [],
   "source": [
    "import pandas as pd\n",
    "import numpy as np\n",
    "import matplotlib.pyplot as plt\n",
    "\n",
    "t0 = 0\n",
    "t1 = 0"
   ]
  },
  {
   "cell_type": "code",
   "execution_count": 10,
   "id": "a48f3419-9ffe-401e-b317-b29f078b3cdc",
   "metadata": {},
   "outputs": [],
   "source": [
    "#First programm \n",
    "\n",
    "def val(km):\n",
    "    global t0, t1\n",
    "    \n",
    "    return t0 + t1 * km"
   ]
  },
  {
   "cell_type": "code",
   "execution_count": 16,
   "id": "82c70486-a401-4661-98f1-52f98b682c97",
   "metadata": {},
   "outputs": [
    {
     "name": "stdin",
     "output_type": "stream",
     "text": [
      " 300000\n"
     ]
    },
    {
     "name": "stdout",
     "output_type": "stream",
     "text": [
      "Predicted price: 2064.9105724225237\n"
     ]
    }
   ],
   "source": [
    "mileage = int(input())\n",
    "print(\"Predicted price: {}\".format(val(mileage)))"
   ]
  },
  {
   "cell_type": "code",
   "execution_count": 11,
   "id": "b1bb26fd-fbd4-4bed-93e9-ec1732ff15a3",
   "metadata": {},
   "outputs": [],
   "source": [
    "def precision(x, y):\n",
    "    tmp = val(x)\n",
    "#     print(\"tmp:\", tmp)\n",
    "    return (np.sqrt(np.mean((y - tmp) ** 2)))"
   ]
  },
  {
   "cell_type": "code",
   "execution_count": 12,
   "id": "ba6717cf-0ec9-443c-9fe8-17661b67cb76",
   "metadata": {},
   "outputs": [],
   "source": [
    "#Second programm\n",
    "\n",
    "def train(file):\n",
    "    global t0, t1\n",
    "    x = pd.read_csv(file, usecols=['km']).values\n",
    "    y = pd.read_csv(file, usecols=['price']).values\n",
    "\n",
    "    print(\"Model precision (before train): \", precision(x, y))\n",
    "    plt.scatter(x, y)\n",
    "\n",
    "    oldX = [i for i in range(20000, 250000, 1000)]\n",
    "    oldY = [val(i) for i in oldX]\n",
    "    plt.plot(oldX, oldY, 'g')\n",
    "\n",
    "    tmp1 = (np.mean(y)*np.mean(x) - np.mean(x*y)) / (np.power(np.mean(x), 2) - np.mean(np.power(x, 2)))\n",
    "    tmp0 = np.mean(y) - tmp1 * np.mean(x)\n",
    "    \n",
    "    t1 = tmp1\n",
    "    t0 = tmp0\n",
    "\n",
    "    newX = [i for i in range(20000, 250000, 1000)]\n",
    "    newY = [val(i) for i in newX]\n",
    "    plt.plot(newX, newY, 'r')\n",
    "    \n",
    "    plt.show()\n",
    "    print(\"Model precision (after train):: \", precision(x, y))"
   ]
  },
  {
   "cell_type": "code",
   "execution_count": 13,
   "id": "758130f1-3e83-4a55-b5d5-ff8e6b29703e",
   "metadata": {},
   "outputs": [
    {
     "name": "stdout",
     "output_type": "stream",
     "text": [
      "Model precision (before train):  6462.278126429823\n"
     ]
    },
    {
     "data": {
      "image/png": "[encoded data removed]",
      "text/plain": [
       "<Figure size 432x288 with 1 Axes>"
      ]
     },
     "metadata": {
      "needs_background": "light"
     },
     "output_type": "display_data"
    },
    {
     "name": "stdout",
     "output_type": "stream",
     "text": [
      "Model precision (after train)::  667.5666596462659\n"
     ]
    }
   ],
   "source": [
    "train(\"data.csv\")"
   ]
  },
  {
   "cell_type": "code",
   "execution_count": null,
   "id": "6fae0807-1584-4a16-a123-9799b3864cbc",
   "metadata": {},
   "outputs": [],
   "source": []
  }
 ],
 "metadata": {
  "kernelspec": {
   "display_name": "Python 3",
   "language": "python",
   "name": "python3"
  },
  "language_info": {
   "codemirror_mode": {
    "name": "ipython",
    "version": 3
   },
   "file_extension": ".py",
   "mimetype": "text/x-python",
   "name": "python",
   "nbconvert_exporter": "python",
   "pygments_lexer": "ipython3",
   "version": "3.7.8"
  }
 },
 "nbformat": 4,
 "nbformat_minor": 5
}
