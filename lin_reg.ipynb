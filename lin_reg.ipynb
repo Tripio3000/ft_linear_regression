{
 "cells": [
  {
   "cell_type": "markdown",
   "id": "4fd39cec-3da8-48fc-b3d3-aba581421fea",
   "metadata": {},
   "source": [
    "import numpy as np\n",
    "\n",
    "data = np.genfromtxt('data.csv', delimiter=',')\n",
    "\n",
    "data"
   ]
  },
  {
   "cell_type": "code",
   "execution_count": 69,
   "id": "e3554cff-3424-4d65-bd9f-7cd2d2d96ade",
   "metadata": {},
   "outputs": [],
   "source": [
    "import pandas as pd\n",
    "import numpy as np\n",
    "import matplotlib.pyplot as plt\n",
    "\n",
    "t0 = 0\n",
    "t1 = 0"
   ]
  },
  {
   "cell_type": "code",
   "execution_count": 70,
   "id": "a48f3419-9ffe-401e-b317-b29f078b3cdc",
   "metadata": {},
   "outputs": [],
   "source": [
    "def val(km):\n",
    "    global t0, t1\n",
    "    \n",
    "    return t0 + t1 * km"
   ]
  },
  {
   "cell_type": "code",
   "execution_count": 71,
   "id": "82c70486-a401-4661-98f1-52f98b682c97",
   "metadata": {},
   "outputs": [],
   "source": [
    "# def new_val(km, pr):\n",
    "#     t1 = \n",
    "#     t0 = np.mean(pr) + t1 * np.mean(km)"
   ]
  },
  {
   "cell_type": "code",
   "execution_count": 74,
   "id": "ba6717cf-0ec9-443c-9fe8-17661b67cb76",
   "metadata": {},
   "outputs": [
    {
     "data": {
      "image/png": "[encoded data removed]",
      "text/plain": [
       "<Figure size 432x288 with 1 Axes>"
      ]
     },
     "metadata": {
      "needs_background": "light"
     },
     "output_type": "display_data"
    }
   ],
   "source": [
    "x = pd.read_csv('data.csv', usecols=['km']).values\n",
    "y = pd.read_csv('data.csv', usecols=['price']).values\n",
    "\n",
    "plt.scatter(x, y, alpha=0.5)\n",
    "\n",
    "oldX = [i for i in range(20000, 250000, 5000)]\n",
    "oldY = [val(i) for i in oldX]\n",
    "# plt.scatter(oldX, oldY, color=\"r\")\n",
    "\n",
    "t1 = (np.mean(y)*np.mean(x) - np.mean(x*y)) / (np.power(np.mean(x), 2) - np.mean(np.power(x, 2)))\n",
    "t0 = np.mean(y) + t1 * np.mean(x)\n",
    "\n",
    "oldX = [i for i in range(20000, 250000, 5000)]\n",
    "oldY = [val(i) for i in oldX]\n",
    "plt.scatter(oldX, oldY, color=\"g\")\n",
    "\n",
    "plt.show()\n"
   ]
  },
  {
   "cell_type": "code",
   "execution_count": 12,
   "id": "ef20cc7b-471d-4503-84fb-feafa3b5fffd",
   "metadata": {},
   "outputs": [
    {
     "data": {
      "image/png": "[encoded data removed]",
      "text/plain": [
       "<Figure size 432x288 with 1 Axes>"
      ]
     },
     "metadata": {
      "needs_background": "light"
     },
     "output_type": "display_data"
    }
   ],
   "source": [
    "def new_val:"
   ]
  },
  {
   "cell_type": "code",
   "execution_count": null,
   "id": "758130f1-3e83-4a55-b5d5-ff8e6b29703e",
   "metadata": {},
   "outputs": [],
   "source": [
    "tetha_0 = 0\n",
    "tetha_1 = 0\n",
    "\n",
    "plt.scatter()"
   ]
  }
 ],
 "metadata": {
  "kernelspec": {
   "display_name": "Python 3",
   "language": "python",
   "name": "python3"
  },
  "language_info": {
   "codemirror_mode": {
    "name": "ipython",
    "version": 3
   },
   "file_extension": ".py",
   "mimetype": "text/x-python",
   "name": "python",
   "nbconvert_exporter": "python",
   "pygments_lexer": "ipython3",
   "version": "3.7.8"
  }
 },
 "nbformat": 4,
 "nbformat_minor": 5
}
